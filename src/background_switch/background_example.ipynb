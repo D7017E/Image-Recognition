{
 "cells": [
  {
   "cell_type": "markdown",
   "metadata": {},
   "source": [
    "# Background Example\n",
    "The following example will utilize images and a model which have to be downloaded to change the background of a hand."
   ]
  },
  {
   "cell_type": "markdown",
   "metadata": {},
   "source": [
    "## Dependencies\n",
    "### Python Version\n",
    "This example was conducted on python 3.7.1. Installation of the version can be done by [Anaconda Environment](../../docs/anaconda/anaconda_enviroment.md).\n",
    "\n",
    "### Packages\n",
    "- protobuf==3.20.3\n",
    "- tensorflow==2.8\n",
    "- pixellib\n",
    "- wget\n",
    "\n",
    "> pip install protobuf==3.20.3 tensorflow==2.8 pixellib wget"
   ]
  },
  {
   "cell_type": "markdown",
   "metadata": {},
   "source": [
    "## Setup\n",
    "Here are imports of required packages. Pixellib has a import issue within one of its files. This can be changed by going into the Pixellib folder --> semantic --> deeplab.py and replacing **from tensorflow.python.keras.layers import BatchNormalization** with **from keras.layers.normalization.batch_normalization import BatchNormalization**. The solution for the issue can also be found on [stackoverflow](https://stackoverflow.com/questions/70996574/importerror-cannot-import-name-batchnormalization-from-tensorflow-python-ker)."
   ]
  },
  {
   "cell_type": "code",
   "execution_count": null,
   "metadata": {},
   "outputs": [],
   "source": [
    "import os\n",
    "\n",
    "import wget\n",
    "\n",
    "import pixellib\n",
    "from pixellib.tune_bg import alter_bg"
   ]
  },
  {
   "cell_type": "markdown",
   "metadata": {},
   "source": [
    "## Download Model\n",
    "If model is not in folder, it will be downloaded using wget. The model can also be manually downloaded with the [link](https://github.com/ayoolaolafenwa/PixelLib/releases/download/1.1/xception_pascalvoc.pb)."
   ]
  },
  {
   "cell_type": "code",
   "execution_count": null,
   "metadata": {},
   "outputs": [],
   "source": [
    "if not os.path.isfile(\"./xception_pascalvoc.pb\"):\n",
    "    url = \"https://github.com/ayoolaolafenwa/PixelLib/releases/download/1.1/xception_pascalvoc.pb\"\n",
    "    response = wget.download(url, \"xception_pascalvoc.pb\")"
   ]
  },
  {
   "cell_type": "markdown",
   "metadata": {},
   "source": [
    "## Execute On Model\n",
    "Run the model on the two images within this folder into _new_img_."
   ]
  },
  {
   "cell_type": "code",
   "execution_count": null,
   "metadata": {},
   "outputs": [],
   "source": [
    "change_bg = alter_bg(model_type = \"pb\")\n",
    "change_bg.load_pascalvoc_model(\"xception_pascalvoc.pb\")\n",
    "change_bg.change_bg_img(f_image_path = \"testscissors01-11.png\",b_image_path = \"background.png\", output_image_name=\"new_img.png\")\n"
   ]
  }
 ],
 "metadata": {
  "kernelspec": {
   "display_name": "Python 3.7.1 ('python3_7_1')",
   "language": "python",
   "name": "python3"
  },
  "language_info": {
   "codemirror_mode": {
    "name": "ipython",
    "version": 3
   },
   "file_extension": ".py",
   "mimetype": "text/x-python",
   "name": "python",
   "nbconvert_exporter": "python",
   "pygments_lexer": "ipython3",
   "version": "3.7.1"
  },
  "orig_nbformat": 4,
  "vscode": {
   "interpreter": {
    "hash": "355e8f64d5d465d745d86b0dcc72d6c5fda2f4e4aaf970a478297889fc6ca446"
   }
  }
 },
 "nbformat": 4,
 "nbformat_minor": 2
}
