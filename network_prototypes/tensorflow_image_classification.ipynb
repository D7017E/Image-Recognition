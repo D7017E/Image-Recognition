{
 "cells": [
  {
   "cell_type": "markdown",
   "metadata": {},
   "source": [
    "Author: Dennis Trollsfjord\n",
    "\n",
    "Followed tutorial by tensorflow found [here](https://www.tensorflow.org/tutorials/images/classification), with modifications adapted for our implementation. "
   ]
  },
  {
   "cell_type": "code",
   "execution_count": 30,
   "metadata": {},
   "outputs": [],
   "source": [
    "%%capture\n",
    "pip install matplotlib numpy tensorflow tensorflow_datasets --user"
   ]
  },
  {
   "cell_type": "code",
   "execution_count": 31,
   "metadata": {},
   "outputs": [],
   "source": [
    "import matplotlib.pyplot as plt\n",
    "import numpy as np\n",
    "import PIL\n",
    "import tensorflow as tf\n",
    "\n",
    "# from tensorflow import keras\n",
    "# from tensorflow.keras import layers\n",
    "# from tensorflow.keras.models import Sequential\n",
    "\n",
    "import tensorflow_datasets as tfds  \n"
   ]
  },
  {
   "cell_type": "markdown",
   "metadata": {},
   "source": [
    "[Tensorflow datasets](https://www.tensorflow.org/datasets/overview)\n",
    "\n",
    "[Dataset](https://www.tensorflow.org/datasets/catalog/rock_paper_scissors)"
   ]
  },
  {
   "cell_type": "code",
   "execution_count": 46,
   "metadata": {},
   "outputs": [
    {
     "name": "stdout",
     "output_type": "stream",
     "text": [
      "dataset name: rock_paper_scissors\n",
      "dataset size: 219.23 MiB\n",
      "number of labels: 3\n",
      "dataset labels: ['rock', 'paper', 'scissors']\n",
      "train dataset size: 2520\n",
      "test dataset size: 372\n"
     ]
    }
   ],
   "source": [
    "# Load dataset whole dataset.\n",
    "dataset, dataset_info = tfds.load(\n",
    "    name='rock_paper_scissors', \n",
    "    data_dir='dataset', \n",
    "    with_info=True,\n",
    "    as_supervised=True) \n",
    "assert isinstance(dataset, dict) \n",
    "assert isinstance(dataset_info, tfds.core.dataset_info.DatasetInfo)\n",
    "dataset_label_size = dataset_info.features['label'].num_classes\n",
    "print(f\"dataset name: {dataset_info.name}\")  \n",
    "print(f\"dataset size: {dataset_info.dataset_size}\")\n",
    "print(f\"number of labels: {dataset_label_size}\")\n",
    "print(f\"dataset labels: {dataset_info.features['label'].names}\")\n",
    "\n",
    "# Train dataset.\n",
    "dataset_train = dataset['train']\n",
    "dataset_train_size = dataset_info.splits['train'].num_examples\n",
    "print(f\"train dataset size: {dataset_train_size}\") \n",
    "\n",
    "# Test dataset.\n",
    "dataset_test = dataset['test']\n",
    "dataset_test_size = dataset_info.splits['test'].num_examples\n",
    "print(f\"test dataset size: {dataset_test_size}\")  "
   ]
  }
 ],
 "metadata": {
  "kernelspec": {
   "display_name": "Python 3.10.7 64-bit",
   "language": "python",
   "name": "python3"
  },
  "language_info": {
   "codemirror_mode": {
    "name": "ipython",
    "version": 3
   },
   "file_extension": ".py",
   "mimetype": "text/x-python",
   "name": "python",
   "nbconvert_exporter": "python",
   "pygments_lexer": "ipython3",
   "version": "3.10.7"
  },
  "orig_nbformat": 4,
  "vscode": {
   "interpreter": {
    "hash": "369f2c481f4da34e4445cda3fffd2e751bd1c4d706f27375911949ba6bb62e1c"
   }
  }
 },
 "nbformat": 4,
 "nbformat_minor": 2
}
