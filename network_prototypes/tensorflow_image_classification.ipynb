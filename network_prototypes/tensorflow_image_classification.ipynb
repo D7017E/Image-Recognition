{
 "cells": [
  {
   "cell_type": "markdown",
   "metadata": {},
   "source": [
    "Author: Dennis Trollsfjord\n",
    "\n",
    "Followed tutorial by tensorflow found [here](https://www.tensorflow.org/tutorials/images/classification), with modifications adapted for our implementation. "
   ]
  },
  {
   "cell_type": "code",
   "execution_count": 319,
   "metadata": {},
   "outputs": [],
   "source": [
    "%%capture\n",
    "pip install matplotlib numpy tensorflow tensorflow_datasets --user"
   ]
  },
  {
   "cell_type": "code",
   "execution_count": 320,
   "metadata": {},
   "outputs": [],
   "source": [
    "import matplotlib.pyplot as plt\n",
    "import numpy as np\n",
    "# import PIL\n",
    "import tensorflow as tf\n",
    "\n",
    "# from tensorflow import keras\n",
    "# from tensorflow.keras import layers\n",
    "# from tensorflow.keras.models import Sequential\n",
    "\n",
    "import tensorflow_datasets as tfds  \n"
   ]
  },
  {
   "cell_type": "markdown",
   "metadata": {},
   "source": [
    "[Tensorflow datasets](https://www.tensorflow.org/datasets/overview)\n",
    "\n",
    "[Dataset](https://www.tensorflow.org/datasets/catalog/rock_paper_scissors)"
   ]
  },
  {
   "cell_type": "code",
   "execution_count": 321,
   "metadata": {},
   "outputs": [
    {
     "name": "stdout",
     "output_type": "stream",
     "text": [
      "dataset name: rock_paper_scissors\n",
      "dataset size: 219.23 MiB\n",
      "dataset labels: ['rock', 'paper', 'scissors']\n",
      "number of labels: 3\n",
      "train dataset size: 2016\n",
      "validate dataset size: 504\n",
      "test dataset size: 372\n"
     ]
    }
   ],
   "source": [
    "# Load dataset whole dataset.\n",
    "dataset, dataset_info = tfds.load(\n",
    "    name='rock_paper_scissors', \n",
    "    split=[\"test\", \"train[0%:20%]\", \"train[20%:]\"],\n",
    "    data_dir='dataset', \n",
    "    with_info=True,\n",
    "    as_supervised=True\n",
    ")\n",
    "\n",
    "assert isinstance(dataset, list) \n",
    "assert isinstance(dataset_info, tfds.core.dataset_info.DatasetInfo)\n",
    "\n",
    "dataset_test, dataset_validate, dataset_train = dataset\n",
    "dataset_label = dataset_info.features['label'].names\n",
    "dataset_label_size = dataset_info.features['label'].num_classes\n",
    "dataset_train_size = dataset_info.splits['train[20%:]'].num_examples\n",
    "dataset_validate_size = dataset_info.splits['train[0%:20%]'].num_examples\n",
    "dataset_test_size = dataset_info.splits['test'].num_examples\n",
    "\n",
    "print(f\"dataset name: {dataset_info.name}\")  \n",
    "print(f\"dataset size: {dataset_info.dataset_size}\")\n",
    "print(f\"dataset labels: {dataset_label}\")\n",
    "print(f\"number of labels: {dataset_label_size}\")\n",
    "print(f\"train dataset size: {dataset_train_size}\") \n",
    "print(f\"validate dataset size: {dataset_validate_size}\") \n",
    "print(f\"test dataset size: {dataset_test_size}\")  "
   ]
  },
  {
   "cell_type": "code",
   "execution_count": 322,
   "metadata": {},
   "outputs": [],
   "source": [
    "# def _plot_image(n=1) -> None:\n",
    "#     \"\"\"Plots a image and associated label.\"\"\"\n",
    "#     for image, label in dataset_train.take(n):\n",
    "#         plt.imshow(image.numpy())\n",
    "#         plt.title(dataset_label[label.numpy()])"
   ]
  },
  {
   "cell_type": "code",
   "execution_count": 323,
   "metadata": {},
   "outputs": [],
   "source": [
    "batch_size = 10\n",
    "image_size = 128\n",
    "\n",
    "\n",
    "def format_image(image, label):\n",
    "  image = tf.cast(image, tf.float32)\n",
    "  image = tf.image.resize(image, (image_size, image_size))\n",
    "  return image, label\n",
    "\n",
    "\n",
    "dataset_train = dataset_train.map(format_image)\n",
    "dataset_validate = dataset_validate.map(format_image)\n",
    "dataset_test = dataset_test.map(format_image)\n"
   ]
  },
  {
   "cell_type": "code",
   "execution_count": 324,
   "metadata": {},
   "outputs": [],
   "source": [
    "AUTOTUNE = tf.data.AUTOTUNE\n",
    "\n",
    "dataset_train = dataset_train.cache().shuffle(1000).batch(batch_size=batch_size).repeat().prefetch(buffer_size=AUTOTUNE)\n",
    "dataset_validate = dataset_validate.cache().batch(batch_size=batch_size).prefetch(buffer_size=AUTOTUNE)\n",
    "dataset_test = dataset_test.cache().batch(batch_size=batch_size).prefetch(buffer_size=AUTOTUNE)\n"
   ]
  },
  {
   "cell_type": "code",
   "execution_count": 325,
   "metadata": {},
   "outputs": [
    {
     "name": "stdout",
     "output_type": "stream",
     "text": [
      "(None, 128, 128, 3)\n"
     ]
    }
   ],
   "source": [
    "data_augmentation_model = tf.keras.Sequential(\n",
    "    layers=[\n",
    "        tf.keras.layers.RandomFlip(\n",
    "            mode=\"horizontal\",\n",
    "            input_shape=(image_size, image_size, 3),\n",
    "        ),\n",
    "        tf.keras.layers.RandomRotation(factor=0.1),\n",
    "        tf.keras.layers.RandomZoom(height_factor=0.1, width_factor=0.1)\n",
    "    ], \n",
    "    name=\"data_augmentation_model\")\n",
    "\n",
    "print(data_augmentation_model.input_shape)\n"
   ]
  },
  {
   "cell_type": "code",
   "execution_count": 326,
   "metadata": {},
   "outputs": [
    {
     "name": "stdout",
     "output_type": "stream",
     "text": [
      "(None, 128, 128, 3)\n"
     ]
    }
   ],
   "source": [
    "model = tf.keras.Sequential(\n",
    "    layers=[\n",
    "        tf.keras.layers.Rescaling(\n",
    "            scale=1./255, input_shape=(image_size, image_size, 3)),\n",
    "        data_augmentation_model,\n",
    "        tf.keras.layers.Conv2D(\n",
    "            filters=16, \n",
    "            kernel_size=3, \n",
    "            input_shape=(image_size, image_size, 3), \n",
    "            padding='same', \n",
    "            activation='relu'\n",
    "        ),\n",
    "        tf.keras.layers.MaxPooling2D(),\n",
    "        tf.keras.layers.Dropout(0.2),\n",
    "        tf.keras.layers.Conv2D(\n",
    "            filters=32, \n",
    "            kernel_size=3, \n",
    "            input_shape=(image_size, image_size, 3), \n",
    "            padding='same', \n",
    "            activation='relu'\n",
    "        ),\n",
    "        tf.keras.layers.MaxPooling2D(),\n",
    "        tf.keras.layers.Dropout(0.2),\n",
    "        tf.keras.layers.Conv2D(\n",
    "            filters=64, \n",
    "            kernel_size=3, \n",
    "            input_shape=(image_size, image_size, 3), \n",
    "            padding='same', \n",
    "            activation='relu'\n",
    "        ),\n",
    "        tf.keras.layers.MaxPooling2D(),\n",
    "        tf.keras.layers.Dropout(0.2),\n",
    "        tf.keras.layers.Flatten(),\n",
    "        tf.keras.layers.Dense(128, activation='relu'),\n",
    "        tf.keras.layers.Dense(dataset_label_size, name=\"outputs\")], \n",
    "    name=\"classification_model\")\n",
    "\n",
    "print(model.input_shape)"
   ]
  },
  {
   "cell_type": "code",
   "execution_count": 327,
   "metadata": {},
   "outputs": [
    {
     "name": "stdout",
     "output_type": "stream",
     "text": [
      "Model: \"classification_model\"\n",
      "_________________________________________________________________\n",
      " Layer (type)                Output Shape              Param #   \n",
      "=================================================================\n",
      " rescaling_37 (Rescaling)    (None, 128, 128, 3)       0         \n",
      "                                                                 \n",
      " data_augmentation_model (Se  (None, 128, 128, 3)      0         \n",
      " quential)                                                       \n",
      "                                                                 \n",
      " conv2d_114 (Conv2D)         (None, 128, 128, 16)      448       \n",
      "                                                                 \n",
      " max_pooling2d_114 (MaxPooli  (None, 64, 64, 16)       0         \n",
      " ng2D)                                                           \n",
      "                                                                 \n",
      " dropout_42 (Dropout)        (None, 64, 64, 16)        0         \n",
      "                                                                 \n",
      " conv2d_115 (Conv2D)         (None, 64, 64, 32)        4640      \n",
      "                                                                 \n",
      " max_pooling2d_115 (MaxPooli  (None, 32, 32, 32)       0         \n",
      " ng2D)                                                           \n",
      "                                                                 \n",
      " dropout_43 (Dropout)        (None, 32, 32, 32)        0         \n",
      "                                                                 \n",
      " conv2d_116 (Conv2D)         (None, 32, 32, 64)        18496     \n",
      "                                                                 \n",
      " max_pooling2d_116 (MaxPooli  (None, 16, 16, 64)       0         \n",
      " ng2D)                                                           \n",
      "                                                                 \n",
      " dropout_44 (Dropout)        (None, 16, 16, 64)        0         \n",
      "                                                                 \n",
      " flatten_38 (Flatten)        (None, 16384)             0         \n",
      "                                                                 \n",
      " dense_38 (Dense)            (None, 128)               2097280   \n",
      "                                                                 \n",
      " outputs (Dense)             (None, 3)                 387       \n",
      "                                                                 \n",
      "=================================================================\n",
      "Total params: 2,121,251\n",
      "Trainable params: 2,121,251\n",
      "Non-trainable params: 0\n",
      "_________________________________________________________________\n"
     ]
    }
   ],
   "source": [
    "model.compile(\n",
    "    optimizer='adam',\n",
    "    loss=tf.keras.losses.SparseCategoricalCrossentropy(from_logits=True),\n",
    "    metrics=['accuracy'],\n",
    ")\n",
    "model.summary()"
   ]
  },
  {
   "cell_type": "code",
   "execution_count": 329,
   "metadata": {},
   "outputs": [
    {
     "name": "stdout",
     "output_type": "stream",
     "text": [
      "Epoch 1/30\n",
      "WARNING:tensorflow:Using a while_loop for converting RngReadAndSkip cause there is no registered converter for this op.\n"
     ]
    },
    {
     "name": "stderr",
     "output_type": "stream",
     "text": [
      "WARNING:tensorflow:Using a while_loop for converting RngReadAndSkip cause there is no registered converter for this op.\n"
     ]
    },
    {
     "name": "stdout",
     "output_type": "stream",
     "text": [
      "WARNING:tensorflow:Using a while_loop for converting Bitcast cause there is no registered converter for this op.\n"
     ]
    },
    {
     "name": "stderr",
     "output_type": "stream",
     "text": [
      "WARNING:tensorflow:Using a while_loop for converting Bitcast cause there is no registered converter for this op.\n"
     ]
    },
    {
     "name": "stdout",
     "output_type": "stream",
     "text": [
      "WARNING:tensorflow:Using a while_loop for converting Bitcast cause there is no registered converter for this op.\n"
     ]
    },
    {
     "name": "stderr",
     "output_type": "stream",
     "text": [
      "WARNING:tensorflow:Using a while_loop for converting Bitcast cause there is no registered converter for this op.\n"
     ]
    },
    {
     "name": "stdout",
     "output_type": "stream",
     "text": [
      "WARNING:tensorflow:Using a while_loop for converting StatelessRandomUniformV2 cause there is no registered converter for this op.\n"
     ]
    },
    {
     "name": "stderr",
     "output_type": "stream",
     "text": [
      "WARNING:tensorflow:Using a while_loop for converting StatelessRandomUniformV2 cause there is no registered converter for this op.\n"
     ]
    },
    {
     "name": "stdout",
     "output_type": "stream",
     "text": [
      "WARNING:tensorflow:Using a while_loop for converting ImageProjectiveTransformV3 cause there is no registered converter for this op.\n"
     ]
    },
    {
     "name": "stderr",
     "output_type": "stream",
     "text": [
      "WARNING:tensorflow:Using a while_loop for converting ImageProjectiveTransformV3 cause there is no registered converter for this op.\n"
     ]
    },
    {
     "name": "stdout",
     "output_type": "stream",
     "text": [
      "WARNING:tensorflow:Using a while_loop for converting RngReadAndSkip cause there is no registered converter for this op.\n"
     ]
    },
    {
     "name": "stderr",
     "output_type": "stream",
     "text": [
      "WARNING:tensorflow:Using a while_loop for converting RngReadAndSkip cause there is no registered converter for this op.\n"
     ]
    },
    {
     "name": "stdout",
     "output_type": "stream",
     "text": [
      "WARNING:tensorflow:Using a while_loop for converting Bitcast cause there is no registered converter for this op.\n"
     ]
    },
    {
     "name": "stderr",
     "output_type": "stream",
     "text": [
      "WARNING:tensorflow:Using a while_loop for converting Bitcast cause there is no registered converter for this op.\n"
     ]
    },
    {
     "name": "stdout",
     "output_type": "stream",
     "text": [
      "WARNING:tensorflow:Using a while_loop for converting Bitcast cause there is no registered converter for this op.\n"
     ]
    },
    {
     "name": "stderr",
     "output_type": "stream",
     "text": [
      "WARNING:tensorflow:Using a while_loop for converting Bitcast cause there is no registered converter for this op.\n"
     ]
    },
    {
     "name": "stdout",
     "output_type": "stream",
     "text": [
      "WARNING:tensorflow:Using a while_loop for converting StatelessRandomUniformV2 cause there is no registered converter for this op.\n"
     ]
    },
    {
     "name": "stderr",
     "output_type": "stream",
     "text": [
      "WARNING:tensorflow:Using a while_loop for converting StatelessRandomUniformV2 cause there is no registered converter for this op.\n"
     ]
    },
    {
     "name": "stdout",
     "output_type": "stream",
     "text": [
      "WARNING:tensorflow:Using a while_loop for converting RngReadAndSkip cause there is no registered converter for this op.\n"
     ]
    },
    {
     "name": "stderr",
     "output_type": "stream",
     "text": [
      "WARNING:tensorflow:Using a while_loop for converting RngReadAndSkip cause there is no registered converter for this op.\n"
     ]
    },
    {
     "name": "stdout",
     "output_type": "stream",
     "text": [
      "WARNING:tensorflow:Using a while_loop for converting Bitcast cause there is no registered converter for this op.\n"
     ]
    },
    {
     "name": "stderr",
     "output_type": "stream",
     "text": [
      "WARNING:tensorflow:Using a while_loop for converting Bitcast cause there is no registered converter for this op.\n"
     ]
    },
    {
     "name": "stdout",
     "output_type": "stream",
     "text": [
      "WARNING:tensorflow:Using a while_loop for converting Bitcast cause there is no registered converter for this op.\n"
     ]
    },
    {
     "name": "stderr",
     "output_type": "stream",
     "text": [
      "WARNING:tensorflow:Using a while_loop for converting Bitcast cause there is no registered converter for this op.\n"
     ]
    },
    {
     "name": "stdout",
     "output_type": "stream",
     "text": [
      "WARNING:tensorflow:Using a while_loop for converting StatelessRandomUniformV2 cause there is no registered converter for this op.\n"
     ]
    },
    {
     "name": "stderr",
     "output_type": "stream",
     "text": [
      "WARNING:tensorflow:Using a while_loop for converting StatelessRandomUniformV2 cause there is no registered converter for this op.\n"
     ]
    },
    {
     "name": "stdout",
     "output_type": "stream",
     "text": [
      "WARNING:tensorflow:Using a while_loop for converting ImageProjectiveTransformV3 cause there is no registered converter for this op.\n"
     ]
    },
    {
     "name": "stderr",
     "output_type": "stream",
     "text": [
      "WARNING:tensorflow:Using a while_loop for converting ImageProjectiveTransformV3 cause there is no registered converter for this op.\n"
     ]
    },
    {
     "name": "stdout",
     "output_type": "stream",
     "text": [
      "WARNING:tensorflow:Using a while_loop for converting RngReadAndSkip cause there is no registered converter for this op.\n"
     ]
    },
    {
     "name": "stderr",
     "output_type": "stream",
     "text": [
      "WARNING:tensorflow:Using a while_loop for converting RngReadAndSkip cause there is no registered converter for this op.\n"
     ]
    },
    {
     "name": "stdout",
     "output_type": "stream",
     "text": [
      "WARNING:tensorflow:Using a while_loop for converting Bitcast cause there is no registered converter for this op.\n"
     ]
    },
    {
     "name": "stderr",
     "output_type": "stream",
     "text": [
      "WARNING:tensorflow:Using a while_loop for converting Bitcast cause there is no registered converter for this op.\n"
     ]
    },
    {
     "name": "stdout",
     "output_type": "stream",
     "text": [
      "WARNING:tensorflow:Using a while_loop for converting Bitcast cause there is no registered converter for this op.\n"
     ]
    },
    {
     "name": "stderr",
     "output_type": "stream",
     "text": [
      "WARNING:tensorflow:Using a while_loop for converting Bitcast cause there is no registered converter for this op.\n"
     ]
    },
    {
     "name": "stdout",
     "output_type": "stream",
     "text": [
      "WARNING:tensorflow:Using a while_loop for converting StatelessRandomUniformV2 cause there is no registered converter for this op.\n"
     ]
    },
    {
     "name": "stderr",
     "output_type": "stream",
     "text": [
      "WARNING:tensorflow:Using a while_loop for converting StatelessRandomUniformV2 cause there is no registered converter for this op.\n"
     ]
    },
    {
     "name": "stdout",
     "output_type": "stream",
     "text": [
      "WARNING:tensorflow:Using a while_loop for converting ImageProjectiveTransformV3 cause there is no registered converter for this op.\n"
     ]
    },
    {
     "name": "stderr",
     "output_type": "stream",
     "text": [
      "WARNING:tensorflow:Using a while_loop for converting ImageProjectiveTransformV3 cause there is no registered converter for this op.\n"
     ]
    },
    {
     "name": "stdout",
     "output_type": "stream",
     "text": [
      "WARNING:tensorflow:Using a while_loop for converting RngReadAndSkip cause there is no registered converter for this op.\n"
     ]
    },
    {
     "name": "stderr",
     "output_type": "stream",
     "text": [
      "WARNING:tensorflow:Using a while_loop for converting RngReadAndSkip cause there is no registered converter for this op.\n"
     ]
    },
    {
     "name": "stdout",
     "output_type": "stream",
     "text": [
      "WARNING:tensorflow:Using a while_loop for converting Bitcast cause there is no registered converter for this op.\n"
     ]
    },
    {
     "name": "stderr",
     "output_type": "stream",
     "text": [
      "WARNING:tensorflow:Using a while_loop for converting Bitcast cause there is no registered converter for this op.\n"
     ]
    },
    {
     "name": "stdout",
     "output_type": "stream",
     "text": [
      "WARNING:tensorflow:Using a while_loop for converting Bitcast cause there is no registered converter for this op.\n"
     ]
    },
    {
     "name": "stderr",
     "output_type": "stream",
     "text": [
      "WARNING:tensorflow:Using a while_loop for converting Bitcast cause there is no registered converter for this op.\n"
     ]
    },
    {
     "name": "stdout",
     "output_type": "stream",
     "text": [
      "WARNING:tensorflow:Using a while_loop for converting StatelessRandomUniformV2 cause there is no registered converter for this op.\n"
     ]
    },
    {
     "name": "stderr",
     "output_type": "stream",
     "text": [
      "WARNING:tensorflow:Using a while_loop for converting StatelessRandomUniformV2 cause there is no registered converter for this op.\n"
     ]
    },
    {
     "name": "stdout",
     "output_type": "stream",
     "text": [
      "WARNING:tensorflow:Using a while_loop for converting RngReadAndSkip cause there is no registered converter for this op.\n"
     ]
    },
    {
     "name": "stderr",
     "output_type": "stream",
     "text": [
      "WARNING:tensorflow:Using a while_loop for converting RngReadAndSkip cause there is no registered converter for this op.\n"
     ]
    },
    {
     "name": "stdout",
     "output_type": "stream",
     "text": [
      "WARNING:tensorflow:Using a while_loop for converting Bitcast cause there is no registered converter for this op.\n"
     ]
    },
    {
     "name": "stderr",
     "output_type": "stream",
     "text": [
      "WARNING:tensorflow:Using a while_loop for converting Bitcast cause there is no registered converter for this op.\n"
     ]
    },
    {
     "name": "stdout",
     "output_type": "stream",
     "text": [
      "WARNING:tensorflow:Using a while_loop for converting Bitcast cause there is no registered converter for this op.\n"
     ]
    },
    {
     "name": "stderr",
     "output_type": "stream",
     "text": [
      "WARNING:tensorflow:Using a while_loop for converting Bitcast cause there is no registered converter for this op.\n"
     ]
    },
    {
     "name": "stdout",
     "output_type": "stream",
     "text": [
      "WARNING:tensorflow:Using a while_loop for converting StatelessRandomUniformV2 cause there is no registered converter for this op.\n"
     ]
    },
    {
     "name": "stderr",
     "output_type": "stream",
     "text": [
      "WARNING:tensorflow:Using a while_loop for converting StatelessRandomUniformV2 cause there is no registered converter for this op.\n"
     ]
    },
    {
     "name": "stdout",
     "output_type": "stream",
     "text": [
      "WARNING:tensorflow:Using a while_loop for converting ImageProjectiveTransformV3 cause there is no registered converter for this op.\n"
     ]
    },
    {
     "name": "stderr",
     "output_type": "stream",
     "text": [
      "WARNING:tensorflow:Using a while_loop for converting ImageProjectiveTransformV3 cause there is no registered converter for this op.\n"
     ]
    },
    {
     "name": "stdout",
     "output_type": "stream",
     "text": [
      "201/201 [==============================] - 24s 98ms/step - loss: 0.7772 - accuracy: 0.6100 - val_loss: 0.2702 - val_accuracy: 0.8900\n",
      "Epoch 2/30\n",
      "201/201 [==============================] - 19s 96ms/step - loss: 0.1978 - accuracy: 0.9342 - val_loss: 0.1722 - val_accuracy: 0.9240\n",
      "Epoch 3/30\n",
      "201/201 [==============================] - 19s 96ms/step - loss: 0.1150 - accuracy: 0.9601 - val_loss: 0.0800 - val_accuracy: 0.9560\n",
      "Epoch 4/30\n",
      "201/201 [==============================] - 19s 96ms/step - loss: 0.0697 - accuracy: 0.9801 - val_loss: 0.0173 - val_accuracy: 0.9920\n",
      "Epoch 5/30\n",
      "201/201 [==============================] - 19s 96ms/step - loss: 0.0383 - accuracy: 0.9895 - val_loss: 0.0046 - val_accuracy: 0.9980\n",
      "Epoch 6/30\n",
      "201/201 [==============================] - 19s 96ms/step - loss: 0.0371 - accuracy: 0.9900 - val_loss: 0.0039 - val_accuracy: 1.0000\n",
      "Epoch 7/30\n",
      "201/201 [==============================] - 19s 96ms/step - loss: 0.0160 - accuracy: 0.9950 - val_loss: 0.0055 - val_accuracy: 1.0000\n",
      "Epoch 8/30\n",
      "201/201 [==============================] - 20s 100ms/step - loss: 0.0401 - accuracy: 0.9875 - val_loss: 0.0075 - val_accuracy: 0.9960\n",
      "Epoch 9/30\n",
      "201/201 [==============================] - 20s 101ms/step - loss: 0.0150 - accuracy: 0.9935 - val_loss: 0.0055 - val_accuracy: 0.9980\n",
      "Epoch 10/30\n",
      "201/201 [==============================] - 19s 96ms/step - loss: 0.0170 - accuracy: 0.9950 - val_loss: 0.0409 - val_accuracy: 0.9820\n",
      "Epoch 11/30\n",
      "201/201 [==============================] - 19s 96ms/step - loss: 0.0080 - accuracy: 0.9975 - val_loss: 0.0020 - val_accuracy: 1.0000\n",
      "Epoch 12/30\n",
      "201/201 [==============================] - 19s 96ms/step - loss: 0.0285 - accuracy: 0.9925 - val_loss: 0.0644 - val_accuracy: 0.9860\n",
      "Epoch 13/30\n",
      "201/201 [==============================] - 19s 96ms/step - loss: 0.0103 - accuracy: 0.9975 - val_loss: 6.3059e-04 - val_accuracy: 1.0000\n",
      "Epoch 14/30\n",
      "201/201 [==============================] - 20s 98ms/step - loss: 0.0139 - accuracy: 0.9960 - val_loss: 3.7960e-04 - val_accuracy: 1.0000\n",
      "Epoch 15/30\n",
      "201/201 [==============================] - 19s 96ms/step - loss: 0.0088 - accuracy: 0.9965 - val_loss: 0.1342 - val_accuracy: 0.9460\n",
      "Epoch 16/30\n",
      "201/201 [==============================] - 20s 98ms/step - loss: 0.0332 - accuracy: 0.9900 - val_loss: 8.4976e-05 - val_accuracy: 1.0000\n",
      "Epoch 17/30\n",
      "201/201 [==============================] - 19s 96ms/step - loss: 0.0179 - accuracy: 0.9935 - val_loss: 0.0039 - val_accuracy: 0.9980\n",
      "Epoch 18/30\n",
      "201/201 [==============================] - 19s 96ms/step - loss: 0.0115 - accuracy: 0.9970 - val_loss: 1.8096e-04 - val_accuracy: 1.0000\n",
      "Epoch 19/30\n",
      "201/201 [==============================] - 19s 96ms/step - loss: 0.0123 - accuracy: 0.9975 - val_loss: 1.8646e-04 - val_accuracy: 1.0000\n",
      "Epoch 20/30\n",
      "201/201 [==============================] - 19s 96ms/step - loss: 0.0053 - accuracy: 0.9975 - val_loss: 8.1688e-05 - val_accuracy: 1.0000\n",
      "Epoch 21/30\n",
      "201/201 [==============================] - 19s 96ms/step - loss: 0.0194 - accuracy: 0.9950 - val_loss: 1.4898e-04 - val_accuracy: 1.0000\n",
      "Epoch 22/30\n",
      "201/201 [==============================] - 19s 96ms/step - loss: 0.0229 - accuracy: 0.9930 - val_loss: 0.0209 - val_accuracy: 0.9900\n",
      "Epoch 23/30\n",
      "201/201 [==============================] - 19s 96ms/step - loss: 0.0233 - accuracy: 0.9955 - val_loss: 2.5290e-04 - val_accuracy: 1.0000\n",
      "Epoch 24/30\n",
      "201/201 [==============================] - 19s 96ms/step - loss: 9.8750e-04 - accuracy: 1.0000 - val_loss: 3.8795e-05 - val_accuracy: 1.0000\n",
      "Epoch 25/30\n",
      "201/201 [==============================] - 19s 96ms/step - loss: 6.6803e-04 - accuracy: 1.0000 - val_loss: 3.1007e-06 - val_accuracy: 1.0000\n",
      "Epoch 26/30\n",
      "201/201 [==============================] - 19s 96ms/step - loss: 2.7518e-04 - accuracy: 1.0000 - val_loss: 1.8365e-05 - val_accuracy: 1.0000\n",
      "Epoch 27/30\n",
      "201/201 [==============================] - 19s 96ms/step - loss: 0.0149 - accuracy: 0.9940 - val_loss: 7.3038e-04 - val_accuracy: 1.0000\n",
      "Epoch 28/30\n",
      "201/201 [==============================] - 19s 96ms/step - loss: 0.0125 - accuracy: 0.9955 - val_loss: 1.2173e-04 - val_accuracy: 1.0000\n",
      "Epoch 29/30\n",
      "201/201 [==============================] - 19s 96ms/step - loss: 0.0018 - accuracy: 0.9990 - val_loss: 1.2969e-05 - val_accuracy: 1.0000\n",
      "Epoch 30/30\n",
      "201/201 [==============================] - 19s 95ms/step - loss: 1.0397e-04 - accuracy: 1.0000 - val_loss: 6.7596e-06 - val_accuracy: 1.0000\n"
     ]
    }
   ],
   "source": [
    "epochs = 30\n",
    "history = model.fit(\n",
    "    x=dataset_train,\n",
    "    epochs=epochs,\n",
    "    verbose=1,\n",
    "    validation_data=dataset_validate,\n",
    "    steps_per_epoch=dataset_train_size // batch_size,\n",
    "    validation_steps=dataset_validate_size // batch_size,\n",
    ")"
   ]
  },
  {
   "cell_type": "code",
   "execution_count": 332,
   "metadata": {},
   "outputs": [
    {
     "name": "stdout",
     "output_type": "stream",
     "text": [
      "38/38 [==============================] - 1s 18ms/step - loss: 0.0812 - accuracy: 0.9758\n"
     ]
    }
   ],
   "source": [
    "results = model.evaluate(\n",
    "    x=dataset_test,\n",
    "    verbose=1,\n",
    ")"
   ]
  },
  {
   "cell_type": "code",
   "execution_count": 337,
   "metadata": {},
   "outputs": [
    {
     "name": "stdout",
     "output_type": "stream",
     "text": [
      "[0.08122678846120834, 0.975806474685669]\n"
     ]
    },
    {
     "data": {
      "image/png": "[encoded data removed]",
      "text/plain": [
       "<Figure size 720x720 with 2 Axes>"
      ]
     },
     "metadata": {
      "needs_background": "light"
     },
     "output_type": "display_data"
    }
   ],
   "source": [
    "print(results)\n",
    "acc = history.history['accuracy']\n",
    "val_acc = history.history['val_accuracy']\n",
    "test_acc = results[1]\n",
    "\n",
    "loss = history.history['loss']\n",
    "val_loss = history.history['val_loss']\n",
    "test_loss = results[0]\n",
    "\n",
    "epochs_range = range(epochs)\n",
    "\n",
    "plt.figure(figsize=(10, 10))\n",
    "plt.subplot(1, 2, 1)\n",
    "plt.plot(epochs_range, acc, label='Training Accuracy')\n",
    "plt.plot(epochs_range, val_acc, label='Validation Accuracy')\n",
    "plt.plot(epochs_range, [test_acc]*epochs, label='Testing Accuracy')\n",
    "plt.legend(loc='lower right')\n",
    "plt.title('Training, Validation and Testing Accuracy')\n",
    "\n",
    "plt.subplot(1, 2, 2)\n",
    "plt.plot(epochs_range, loss, label='Training Loss')\n",
    "plt.plot(epochs_range, val_loss, label='Validation Loss')\n",
    "plt.plot(epochs_range, [test_loss]*epochs, label='Testing Loss')\n",
    "plt.legend(loc='upper right')\n",
    "plt.title('Training, Validation and Testing Loss')\n",
    "plt.show()\n"
   ]
  },
  {
   "cell_type": "code",
   "execution_count": 331,
   "metadata": {},
   "outputs": [
    {
     "name": "stdout",
     "output_type": "stream",
     "text": [
      "38/38 [==============================] - 1s 23ms/step - loss: 0.0812 - accuracy: 0.9758\n"
     ]
    }
   ],
   "source": []
  }
 ],
 "metadata": {
  "kernelspec": {
   "display_name": "Python 3.9.10 64-bit",
   "language": "python",
   "name": "python3"
  },
  "language_info": {
   "codemirror_mode": {
    "name": "ipython",
    "version": 3
   },
   "file_extension": ".py",
   "mimetype": "text/x-python",
   "name": "python",
   "nbconvert_exporter": "python",
   "pygments_lexer": "ipython3",
   "version": "3.9.10"
  },
  "orig_nbformat": 4,
  "vscode": {
   "interpreter": {
    "hash": "81794d4967e6c3204c66dcd87b604927b115b27c00565d3d43f05ba2f3a2cb0d"
   }
  }
 },
 "nbformat": 4,
 "nbformat_minor": 2
}
