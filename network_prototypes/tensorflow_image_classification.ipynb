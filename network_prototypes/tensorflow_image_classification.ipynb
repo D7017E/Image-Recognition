{
 "cells": [
  {
   "cell_type": "markdown",
   "metadata": {},
   "source": [
    "# Tensorflow Image Classification \n",
    "Author: Dennis Trollsfjord\n",
    "\n",
    "Followed tutorial by tensorflow found [here](https://www.tensorflow.org/tutorials/images/classification), with modifications adapted for our implementation. "
   ]
  },
  {
   "cell_type": "markdown",
   "metadata": {},
   "source": [
    "## Setup\n",
    "Installing required python packages. Then importing the packages needed. "
   ]
  },
  {
   "cell_type": "code",
   "execution_count": 435,
   "metadata": {},
   "outputs": [],
   "source": [
    "%%capture\n",
    "pip install matplotlib numpy tensorflow tensorflow_datasets --user"
   ]
  },
  {
   "cell_type": "code",
   "execution_count": 436,
   "metadata": {},
   "outputs": [],
   "source": [
    "import matplotlib.pyplot as plt\n",
    "import numpy as np\n",
    "import tensorflow as tf\n",
    "from tensorflow import keras\n",
    "from tensorflow.keras import layers\n",
    "from tensorflow.keras.models import Sequential\n",
    "import tensorflow_datasets as tfds  \n"
   ]
  },
  {
   "cell_type": "markdown",
   "metadata": {},
   "source": [
    "## Dataset \n",
    "\n",
    "### Description\n",
    "The [rock paper scissor dataset](https://www.tensorflow.org/datasets/catalog/rock_paper_scissors) is a dataset provided by [TensorFlow Datasets](https://www.tensorflow.org/datasets/overview) (TFDS). The dataset consist of 2520 images for training and 372 for testing. The images has the tensorflow shape of (300, 300, 3).\n",
    "\n",
    "### License \n",
    "\"_The dataset is licensed as a CC By 2.0, free for you to share and adapt for all uses, commercial or non-commercial. Please attribute and give appropriate credit to Laurence Moroney (lmoroney@gmail.com / laurencemoroney.com), and place no additional restrictions on your users as outlined here._\" which can be found [here](https://laurencemoroney.com/datasets.html).\n",
    "\n",
    "### Usage\n",
    "In the following code section we load the dataset, including information about the dataset. After the dataset is loaded with the information both are asserted to verify that the type of the given objects is correct. \n",
    "\n",
    "Then the whole dataset is split into 3 parts, test, validate and train, where validate is 20% of the 'train' dataset. We take out the size of each dataset as well as the number of labels and print the result so that we know the dataset has been loaded correctly. The tensorflow dataset should result in the sizes (dataset_train : 2016), (dataset_validate : 504) and (dataset_test : 372), if the validate set is 20% of the total train set and testing is left untouched. \n",
    "\n",
    "\n",
    "\n",
    "\n"
   ]
  },
  {
   "cell_type": "code",
   "execution_count": 437,
   "metadata": {},
   "outputs": [
    {
     "name": "stdout",
     "output_type": "stream",
     "text": [
      "dataset name: rock_paper_scissors\n",
      "dataset size: 219.23 MiB\n",
      "dataset labels: ['rock', 'paper', 'scissors']\n",
      "number of labels: 3\n",
      "train dataset size: 2016\n",
      "validate dataset size: 504\n",
      "test dataset size: 372\n"
     ]
    }
   ],
   "source": [
    "dataset, dataset_info = tfds.load(\n",
    "    name='rock_paper_scissors', \n",
    "    split=[\"test\", \"train[0%:20%]\", \"train[20%:]\"],\n",
    "    data_dir='dataset', \n",
    "    with_info=True,\n",
    "    as_supervised=True\n",
    ")\n",
    "\n",
    "assert isinstance(dataset, list) \n",
    "assert isinstance(dataset_info, tfds.core.dataset_info.DatasetInfo)\n",
    "\n",
    "dataset_test, dataset_validate, dataset_train = dataset\n",
    "dataset_label = dataset_info.features['label'].names\n",
    "dataset_label_size = dataset_info.features['label'].num_classes\n",
    "dataset_train_size = dataset_info.splits['train[20%:]'].num_examples\n",
    "dataset_validate_size = dataset_info.splits['train[0%:20%]'].num_examples\n",
    "dataset_test_size = dataset_info.splits['test'].num_examples\n",
    "\n",
    "print(f\"dataset name: {dataset_info.name}\")  \n",
    "print(f\"dataset size: {dataset_info.dataset_size}\")\n",
    "print(f\"dataset labels: {dataset_label}\")\n",
    "print(f\"number of labels: {dataset_label_size}\")\n",
    "print(f\"train dataset size: {dataset_train_size}\") \n",
    "print(f\"validate dataset size: {dataset_validate_size}\") \n",
    "print(f\"test dataset size: {dataset_test_size}\")  "
   ]
  },
  {
   "cell_type": "markdown",
   "metadata": {},
   "source": [
    "## Hyperparameters \n",
    "In the following code section, hyperparameters are defined. \n",
    "- **image_size**: is the lengths of the image in both height and width (this requires the images to be square).\n",
    "- **epochs**: is the number of epochs for training. \n",
    "- **batch_size**: is the number of samples in each mini batch. Generally a larger _batch_size_ allows for better utilization of GPU, where 32 & 64 are recommended."
   ]
  },
  {
   "cell_type": "code",
   "execution_count": 438,
   "metadata": {},
   "outputs": [],
   "source": [
    "image_size = 128\n",
    "epochs = 10\n",
    "batch_size = 32"
   ]
  },
  {
   "cell_type": "markdown",
   "metadata": {},
   "source": [
    "## Dataset Formatting\n",
    "### Image Formatting\n",
    "In the following code section each of the images within the datasets are reformated. The image is resized according to the hyperparameters. The resizing is done by map over the dataset where the function which resizes is applied to each index within the dataset. "
   ]
  },
  {
   "cell_type": "code",
   "execution_count": 439,
   "metadata": {},
   "outputs": [],
   "source": [
    "def format_image(image, label):\n",
    "  image = tf.cast(image, tf.float32)\n",
    "  image = tf.image.resize(image, (image_size, image_size))\n",
    "  return image, label\n",
    "\n",
    "\n",
    "dataset_train = dataset_train.map(format_image)\n",
    "dataset_validate = dataset_validate.map(format_image)\n",
    "dataset_test = dataset_test.map(format_image)"
   ]
  },
  {
   "cell_type": "markdown",
   "metadata": {},
   "source": [
    "### Dataset Buffered Prefetching\n",
    "This step is important especially for performance but also for how the dataset will function when training. \n",
    "- **cache**: Keeps the images in memory after they're loaded off disk during the first epoch. This will ensure the dataset does not become a bottleneck while training your model. If your dataset is too large to fit into memory, you can also use this method to create a performant on-disk cache.\n",
    "- **shuffle**: Will allocate a buffer with random entries, the buffer size will have the size equal to the _buffer_size_. \n",
    "- **batch**: Will take _batch_size_ number of elements into separate batches. \n",
    "- **repeat**: Normally images are put from the dataset into the buffer and when the dataset is empty it will return an error. Repeat will re-initialize the dataset by making it again so that this error never occurs. \n",
    "- **prefetch**: Overlaps data preprocessing and model execution while training."
   ]
  },
  {
   "cell_type": "code",
   "execution_count": 440,
   "metadata": {},
   "outputs": [],
   "source": [
    "AUTOTUNE = tf.data.AUTOTUNE\n",
    "\n",
    "dataset_train = dataset_train.cache().shuffle(1000).batch(batch_size=batch_size).repeat().prefetch(buffer_size=AUTOTUNE)\n",
    "dataset_validate = dataset_validate.cache().batch(batch_size=batch_size).prefetch(buffer_size=AUTOTUNE)\n",
    "dataset_test = dataset_test.cache().batch(batch_size=batch_size).prefetch(buffer_size=AUTOTUNE)"
   ]
  },
  {
   "cell_type": "markdown",
   "metadata": {},
   "source": [
    "## Models\n",
    "### Augmentation Model\n",
    "In the following step we create a augmentation model, to avoid overfitting and allow our network to function better against new images."
   ]
  },
  {
   "cell_type": "code",
   "execution_count": 441,
   "metadata": {},
   "outputs": [],
   "source": [
    "augmentation_model = tf.keras.Sequential(\n",
    "    layers=[\n",
    "        tf.keras.layers.RandomFlip(\n",
    "            mode=\"horizontal\",\n",
    "            input_shape=(image_size, image_size, 3),\n",
    "        ),\n",
    "        tf.keras.layers.RandomRotation(factor=0.1),\n",
    "        tf.keras.layers.RandomZoom(height_factor=0.1, width_factor=0.1)\n",
    "    ], \n",
    "    name=\"augmentation_model\")\n"
   ]
  },
  {
   "cell_type": "markdown",
   "metadata": {},
   "source": [
    "### Network Model\n",
    "In the following code cell we define the network model."
   ]
  },
  {
   "cell_type": "code",
   "execution_count": 442,
   "metadata": {},
   "outputs": [],
   "source": [
    "model = tf.keras.Sequential(\n",
    "    layers=[\n",
    "        tf.keras.layers.Rescaling(\n",
    "            scale=1./255, input_shape=(image_size, image_size, 3)),\n",
    "        augmentation_model,\n",
    "        tf.keras.layers.Conv2D(\n",
    "            filters=16, \n",
    "            kernel_size=3, \n",
    "            input_shape=(image_size, image_size, 3), \n",
    "            padding='same', \n",
    "            activation='relu'\n",
    "        ),\n",
    "        tf.keras.layers.MaxPooling2D(),\n",
    "        tf.keras.layers.Dropout(0.2),\n",
    "        tf.keras.layers.Conv2D(\n",
    "            filters=32, \n",
    "            kernel_size=3, \n",
    "            input_shape=(image_size, image_size, 3), \n",
    "            padding='same', \n",
    "            activation='relu'\n",
    "        ),\n",
    "        tf.keras.layers.MaxPooling2D(),\n",
    "        tf.keras.layers.Dropout(0.2),\n",
    "        tf.keras.layers.Conv2D(\n",
    "            filters=64, \n",
    "            kernel_size=3, \n",
    "            input_shape=(image_size, image_size, 3), \n",
    "            padding='same', \n",
    "            activation='relu'\n",
    "        ),\n",
    "        tf.keras.layers.MaxPooling2D(),\n",
    "        tf.keras.layers.Dropout(0.2),\n",
    "        tf.keras.layers.Flatten(),\n",
    "        tf.keras.layers.Dense(128, activation='relu'),\n",
    "        tf.keras.layers.Dense(dataset_label_size, name=\"outputs\")], \n",
    "    name=\"classification_model\")"
   ]
  },
  {
   "cell_type": "markdown",
   "metadata": {},
   "source": [
    "### Model Compilation\n",
    "Configures the model for training. \n",
    "- **optimizer**: The name of the optimizing method used. \n",
    "- **loss**: Loss function used. \n",
    "- **metrics**: List of metrics used to evaluate the model during training. "
   ]
  },
  {
   "cell_type": "code",
   "execution_count": 443,
   "metadata": {},
   "outputs": [
    {
     "name": "stdout",
     "output_type": "stream",
     "text": [
      "Model: \"classification_model\"\n",
      "_________________________________________________________________\n",
      " Layer (type)                Output Shape              Param #   \n",
      "=================================================================\n",
      " rescaling_45 (Rescaling)    (None, 128, 128, 3)       0         \n",
      "                                                                 \n",
      " augmentation_model (Sequent  (None, 128, 128, 3)      0         \n",
      " ial)                                                            \n",
      "                                                                 \n",
      " conv2d_138 (Conv2D)         (None, 128, 128, 16)      448       \n",
      "                                                                 \n",
      " max_pooling2d_138 (MaxPooli  (None, 64, 64, 16)       0         \n",
      " ng2D)                                                           \n",
      "                                                                 \n",
      " dropout_66 (Dropout)        (None, 64, 64, 16)        0         \n",
      "                                                                 \n",
      " conv2d_139 (Conv2D)         (None, 64, 64, 32)        4640      \n",
      "                                                                 \n",
      " max_pooling2d_139 (MaxPooli  (None, 32, 32, 32)       0         \n",
      " ng2D)                                                           \n",
      "                                                                 \n",
      " dropout_67 (Dropout)        (None, 32, 32, 32)        0         \n",
      "                                                                 \n",
      " conv2d_140 (Conv2D)         (None, 32, 32, 64)        18496     \n",
      "                                                                 \n",
      " max_pooling2d_140 (MaxPooli  (None, 16, 16, 64)       0         \n",
      " ng2D)                                                           \n",
      "                                                                 \n",
      " dropout_68 (Dropout)        (None, 16, 16, 64)        0         \n",
      "                                                                 \n",
      " flatten_46 (Flatten)        (None, 16384)             0         \n",
      "                                                                 \n",
      " dense_46 (Dense)            (None, 128)               2097280   \n",
      "                                                                 \n",
      " outputs (Dense)             (None, 3)                 387       \n",
      "                                                                 \n",
      "=================================================================\n",
      "Total params: 2,121,251\n",
      "Trainable params: 2,121,251\n",
      "Non-trainable params: 0\n",
      "_________________________________________________________________\n"
     ]
    }
   ],
   "source": [
    "model.compile(\n",
    "    optimizer='adam',\n",
    "    loss=tf.keras.losses.SparseCategoricalCrossentropy(from_logits=True),\n",
    "    metrics=['accuracy'],\n",
    ")\n",
    "model.summary()"
   ]
  },
  {
   "cell_type": "markdown",
   "metadata": {},
   "source": [
    "## Training Of Model\n",
    "In the following section the dataset is trained. \n",
    "- **x**: The training dataset. \n",
    "- **epochs**: Number of epochs in the training. \n",
    "- **verbose**: Setting for console output. \n",
    "- **validation_data**: The validation dataset. \n",
    "- **steps_per_epoch**: Number of elements handled in each step during a single epoch.\n",
    "- **validation_steps**: Same as _steps_per_epoch_ but for the validation of a epoch.  "
   ]
  },
  {
   "cell_type": "code",
   "execution_count": 444,
   "metadata": {},
   "outputs": [
    {
     "name": "stdout",
     "output_type": "stream",
     "text": [
      "Epoch 1/10\n",
      "WARNING:tensorflow:Using a while_loop for converting RngReadAndSkip cause there is no registered converter for this op.\n"
     ]
    },
    {
     "name": "stderr",
     "output_type": "stream",
     "text": [
      "WARNING:tensorflow:Using a while_loop for converting RngReadAndSkip cause there is no registered converter for this op.\n"
     ]
    },
    {
     "name": "stdout",
     "output_type": "stream",
     "text": [
      "WARNING:tensorflow:Using a while_loop for converting Bitcast cause there is no registered converter for this op.\n"
     ]
    },
    {
     "name": "stderr",
     "output_type": "stream",
     "text": [
      "WARNING:tensorflow:Using a while_loop for converting Bitcast cause there is no registered converter for this op.\n"
     ]
    },
    {
     "name": "stdout",
     "output_type": "stream",
     "text": [
      "WARNING:tensorflow:Using a while_loop for converting Bitcast cause there is no registered converter for this op.\n"
     ]
    },
    {
     "name": "stderr",
     "output_type": "stream",
     "text": [
      "WARNING:tensorflow:Using a while_loop for converting Bitcast cause there is no registered converter for this op.\n"
     ]
    },
    {
     "name": "stdout",
     "output_type": "stream",
     "text": [
      "WARNING:tensorflow:Using a while_loop for converting StatelessRandomUniformV2 cause there is no registered converter for this op.\n"
     ]
    },
    {
     "name": "stderr",
     "output_type": "stream",
     "text": [
      "WARNING:tensorflow:Using a while_loop for converting StatelessRandomUniformV2 cause there is no registered converter for this op.\n"
     ]
    },
    {
     "name": "stdout",
     "output_type": "stream",
     "text": [
      "WARNING:tensorflow:Using a while_loop for converting ImageProjectiveTransformV3 cause there is no registered converter for this op.\n"
     ]
    },
    {
     "name": "stderr",
     "output_type": "stream",
     "text": [
      "WARNING:tensorflow:Using a while_loop for converting ImageProjectiveTransformV3 cause there is no registered converter for this op.\n"
     ]
    },
    {
     "name": "stdout",
     "output_type": "stream",
     "text": [
      "WARNING:tensorflow:Using a while_loop for converting RngReadAndSkip cause there is no registered converter for this op.\n"
     ]
    },
    {
     "name": "stderr",
     "output_type": "stream",
     "text": [
      "WARNING:tensorflow:Using a while_loop for converting RngReadAndSkip cause there is no registered converter for this op.\n"
     ]
    },
    {
     "name": "stdout",
     "output_type": "stream",
     "text": [
      "WARNING:tensorflow:Using a while_loop for converting Bitcast cause there is no registered converter for this op.\n"
     ]
    },
    {
     "name": "stderr",
     "output_type": "stream",
     "text": [
      "WARNING:tensorflow:Using a while_loop for converting Bitcast cause there is no registered converter for this op.\n"
     ]
    },
    {
     "name": "stdout",
     "output_type": "stream",
     "text": [
      "WARNING:tensorflow:Using a while_loop for converting Bitcast cause there is no registered converter for this op.\n"
     ]
    },
    {
     "name": "stderr",
     "output_type": "stream",
     "text": [
      "WARNING:tensorflow:Using a while_loop for converting Bitcast cause there is no registered converter for this op.\n"
     ]
    },
    {
     "name": "stdout",
     "output_type": "stream",
     "text": [
      "WARNING:tensorflow:Using a while_loop for converting StatelessRandomUniformV2 cause there is no registered converter for this op.\n"
     ]
    },
    {
     "name": "stderr",
     "output_type": "stream",
     "text": [
      "WARNING:tensorflow:Using a while_loop for converting StatelessRandomUniformV2 cause there is no registered converter for this op.\n"
     ]
    },
    {
     "name": "stdout",
     "output_type": "stream",
     "text": [
      "WARNING:tensorflow:Using a while_loop for converting RngReadAndSkip cause there is no registered converter for this op.\n"
     ]
    },
    {
     "name": "stderr",
     "output_type": "stream",
     "text": [
      "WARNING:tensorflow:Using a while_loop for converting RngReadAndSkip cause there is no registered converter for this op.\n"
     ]
    },
    {
     "name": "stdout",
     "output_type": "stream",
     "text": [
      "WARNING:tensorflow:Using a while_loop for converting Bitcast cause there is no registered converter for this op.\n"
     ]
    },
    {
     "name": "stderr",
     "output_type": "stream",
     "text": [
      "WARNING:tensorflow:Using a while_loop for converting Bitcast cause there is no registered converter for this op.\n"
     ]
    },
    {
     "name": "stdout",
     "output_type": "stream",
     "text": [
      "WARNING:tensorflow:Using a while_loop for converting Bitcast cause there is no registered converter for this op.\n"
     ]
    },
    {
     "name": "stderr",
     "output_type": "stream",
     "text": [
      "WARNING:tensorflow:Using a while_loop for converting Bitcast cause there is no registered converter for this op.\n"
     ]
    },
    {
     "name": "stdout",
     "output_type": "stream",
     "text": [
      "WARNING:tensorflow:Using a while_loop for converting StatelessRandomUniformV2 cause there is no registered converter for this op.\n"
     ]
    },
    {
     "name": "stderr",
     "output_type": "stream",
     "text": [
      "WARNING:tensorflow:Using a while_loop for converting StatelessRandomUniformV2 cause there is no registered converter for this op.\n"
     ]
    },
    {
     "name": "stdout",
     "output_type": "stream",
     "text": [
      "WARNING:tensorflow:Using a while_loop for converting ImageProjectiveTransformV3 cause there is no registered converter for this op.\n"
     ]
    },
    {
     "name": "stderr",
     "output_type": "stream",
     "text": [
      "WARNING:tensorflow:Using a while_loop for converting ImageProjectiveTransformV3 cause there is no registered converter for this op.\n"
     ]
    },
    {
     "name": "stdout",
     "output_type": "stream",
     "text": [
      "WARNING:tensorflow:Using a while_loop for converting RngReadAndSkip cause there is no registered converter for this op.\n"
     ]
    },
    {
     "name": "stderr",
     "output_type": "stream",
     "text": [
      "WARNING:tensorflow:Using a while_loop for converting RngReadAndSkip cause there is no registered converter for this op.\n"
     ]
    },
    {
     "name": "stdout",
     "output_type": "stream",
     "text": [
      "WARNING:tensorflow:Using a while_loop for converting Bitcast cause there is no registered converter for this op.\n"
     ]
    },
    {
     "name": "stderr",
     "output_type": "stream",
     "text": [
      "WARNING:tensorflow:Using a while_loop for converting Bitcast cause there is no registered converter for this op.\n"
     ]
    },
    {
     "name": "stdout",
     "output_type": "stream",
     "text": [
      "WARNING:tensorflow:Using a while_loop for converting Bitcast cause there is no registered converter for this op.\n"
     ]
    },
    {
     "name": "stderr",
     "output_type": "stream",
     "text": [
      "WARNING:tensorflow:Using a while_loop for converting Bitcast cause there is no registered converter for this op.\n"
     ]
    },
    {
     "name": "stdout",
     "output_type": "stream",
     "text": [
      "WARNING:tensorflow:Using a while_loop for converting StatelessRandomUniformV2 cause there is no registered converter for this op.\n"
     ]
    },
    {
     "name": "stderr",
     "output_type": "stream",
     "text": [
      "WARNING:tensorflow:Using a while_loop for converting StatelessRandomUniformV2 cause there is no registered converter for this op.\n"
     ]
    },
    {
     "name": "stdout",
     "output_type": "stream",
     "text": [
      "WARNING:tensorflow:Using a while_loop for converting ImageProjectiveTransformV3 cause there is no registered converter for this op.\n"
     ]
    },
    {
     "name": "stderr",
     "output_type": "stream",
     "text": [
      "WARNING:tensorflow:Using a while_loop for converting ImageProjectiveTransformV3 cause there is no registered converter for this op.\n"
     ]
    },
    {
     "name": "stdout",
     "output_type": "stream",
     "text": [
      "WARNING:tensorflow:Using a while_loop for converting RngReadAndSkip cause there is no registered converter for this op.\n"
     ]
    },
    {
     "name": "stderr",
     "output_type": "stream",
     "text": [
      "WARNING:tensorflow:Using a while_loop for converting RngReadAndSkip cause there is no registered converter for this op.\n"
     ]
    },
    {
     "name": "stdout",
     "output_type": "stream",
     "text": [
      "WARNING:tensorflow:Using a while_loop for converting Bitcast cause there is no registered converter for this op.\n"
     ]
    },
    {
     "name": "stderr",
     "output_type": "stream",
     "text": [
      "WARNING:tensorflow:Using a while_loop for converting Bitcast cause there is no registered converter for this op.\n"
     ]
    },
    {
     "name": "stdout",
     "output_type": "stream",
     "text": [
      "WARNING:tensorflow:Using a while_loop for converting Bitcast cause there is no registered converter for this op.\n"
     ]
    },
    {
     "name": "stderr",
     "output_type": "stream",
     "text": [
      "WARNING:tensorflow:Using a while_loop for converting Bitcast cause there is no registered converter for this op.\n"
     ]
    },
    {
     "name": "stdout",
     "output_type": "stream",
     "text": [
      "WARNING:tensorflow:Using a while_loop for converting StatelessRandomUniformV2 cause there is no registered converter for this op.\n"
     ]
    },
    {
     "name": "stderr",
     "output_type": "stream",
     "text": [
      "WARNING:tensorflow:Using a while_loop for converting StatelessRandomUniformV2 cause there is no registered converter for this op.\n"
     ]
    },
    {
     "name": "stdout",
     "output_type": "stream",
     "text": [
      "WARNING:tensorflow:Using a while_loop for converting RngReadAndSkip cause there is no registered converter for this op.\n"
     ]
    },
    {
     "name": "stderr",
     "output_type": "stream",
     "text": [
      "WARNING:tensorflow:Using a while_loop for converting RngReadAndSkip cause there is no registered converter for this op.\n"
     ]
    },
    {
     "name": "stdout",
     "output_type": "stream",
     "text": [
      "WARNING:tensorflow:Using a while_loop for converting Bitcast cause there is no registered converter for this op.\n"
     ]
    },
    {
     "name": "stderr",
     "output_type": "stream",
     "text": [
      "WARNING:tensorflow:Using a while_loop for converting Bitcast cause there is no registered converter for this op.\n"
     ]
    },
    {
     "name": "stdout",
     "output_type": "stream",
     "text": [
      "WARNING:tensorflow:Using a while_loop for converting Bitcast cause there is no registered converter for this op.\n"
     ]
    },
    {
     "name": "stderr",
     "output_type": "stream",
     "text": [
      "WARNING:tensorflow:Using a while_loop for converting Bitcast cause there is no registered converter for this op.\n"
     ]
    },
    {
     "name": "stdout",
     "output_type": "stream",
     "text": [
      "WARNING:tensorflow:Using a while_loop for converting StatelessRandomUniformV2 cause there is no registered converter for this op.\n"
     ]
    },
    {
     "name": "stderr",
     "output_type": "stream",
     "text": [
      "WARNING:tensorflow:Using a while_loop for converting StatelessRandomUniformV2 cause there is no registered converter for this op.\n"
     ]
    },
    {
     "name": "stdout",
     "output_type": "stream",
     "text": [
      "WARNING:tensorflow:Using a while_loop for converting ImageProjectiveTransformV3 cause there is no registered converter for this op.\n"
     ]
    },
    {
     "name": "stderr",
     "output_type": "stream",
     "text": [
      "WARNING:tensorflow:Using a while_loop for converting ImageProjectiveTransformV3 cause there is no registered converter for this op.\n"
     ]
    },
    {
     "name": "stdout",
     "output_type": "stream",
     "text": [
      "63/63 [==============================] - 27s 371ms/step - loss: 1.1281 - accuracy: 0.4142 - val_loss: 0.9036 - val_accuracy: 0.5167\n",
      "Epoch 2/10\n",
      "63/63 [==============================] - 22s 342ms/step - loss: 0.5726 - accuracy: 0.7495 - val_loss: 0.4496 - val_accuracy: 0.8104\n",
      "Epoch 3/10\n",
      "63/63 [==============================] - 23s 364ms/step - loss: 0.2455 - accuracy: 0.9187 - val_loss: 0.3459 - val_accuracy: 0.8375\n",
      "Epoch 4/10\n",
      "63/63 [==============================] - 22s 343ms/step - loss: 0.1478 - accuracy: 0.9479 - val_loss: 0.1831 - val_accuracy: 0.9083\n",
      "Epoch 5/10\n",
      "63/63 [==============================] - 22s 342ms/step - loss: 0.0846 - accuracy: 0.9752 - val_loss: 0.0817 - val_accuracy: 0.9688\n",
      "Epoch 6/10\n",
      "63/63 [==============================] - 22s 356ms/step - loss: 0.0826 - accuracy: 0.9707 - val_loss: 0.0972 - val_accuracy: 0.9583\n",
      "Epoch 7/10\n",
      "63/63 [==============================] - 22s 347ms/step - loss: 0.0628 - accuracy: 0.9772 - val_loss: 0.0330 - val_accuracy: 0.9958\n",
      "Epoch 8/10\n",
      "63/63 [==============================] - 22s 354ms/step - loss: 0.0392 - accuracy: 0.9876 - val_loss: 0.0497 - val_accuracy: 0.9833\n",
      "Epoch 9/10\n",
      "63/63 [==============================] - 21s 341ms/step - loss: 0.0251 - accuracy: 0.9940 - val_loss: 0.0056 - val_accuracy: 1.0000\n",
      "Epoch 10/10\n",
      "63/63 [==============================] - 22s 349ms/step - loss: 0.0218 - accuracy: 0.9931 - val_loss: 0.0070 - val_accuracy: 1.0000\n"
     ]
    }
   ],
   "source": [
    "training_result = model.fit(\n",
    "    x=dataset_train,\n",
    "    epochs=epochs,\n",
    "    verbose=1,\n",
    "    validation_data=dataset_validate,\n",
    "    steps_per_epoch=dataset_train_size // batch_size,\n",
    "    validation_steps=dataset_validate_size // batch_size,\n",
    ")"
   ]
  },
  {
   "cell_type": "markdown",
   "metadata": {},
   "source": [
    "## Evaluation Of Model\n",
    "In the following code section the model is evaluated by running the test dataset through the trained model. "
   ]
  },
  {
   "cell_type": "code",
   "execution_count": 445,
   "metadata": {},
   "outputs": [
    {
     "name": "stdout",
     "output_type": "stream",
     "text": [
      "11/11 [==============================] - 1s 90ms/step - loss: 0.4966 - accuracy: 0.8722\n"
     ]
    }
   ],
   "source": [
    "testing_result = model.evaluate(\n",
    "    x=dataset_test,\n",
    "    verbose=1,\n",
    "    steps=dataset_test_size // batch_size,\n",
    ")"
   ]
  },
  {
   "cell_type": "markdown",
   "metadata": {},
   "source": [
    "### Visualization of Result\n",
    "Visualization in graphs of the training, validation and testing results. "
   ]
  },
  {
   "cell_type": "code",
   "execution_count": 446,
   "metadata": {},
   "outputs": [
    {
     "data": {
      "image/png": "[encoded data removed]",
      "text/plain": [
       "<Figure size 720x720 with 2 Axes>"
      ]
     },
     "metadata": {
      "needs_background": "light"
     },
     "output_type": "display_data"
    }
   ],
   "source": [
    "acc = training_result.history['accuracy']\n",
    "val_acc = training_result.history['val_accuracy']\n",
    "test_acc = testing_result[1]\n",
    "\n",
    "loss = training_result.history['loss']\n",
    "val_loss = training_result.history['val_loss']\n",
    "test_loss = testing_result[0]\n",
    "\n",
    "epochs_range = range(epochs)\n",
    "\n",
    "plt.figure(figsize=(10, 10))\n",
    "plt.subplot(1, 2, 1)\n",
    "plt.plot(epochs_range, acc, label='Training Accuracy')\n",
    "plt.plot(epochs_range, val_acc, label='Validation Accuracy')\n",
    "plt.plot(epochs_range, [test_acc]*epochs, label='Testing Accuracy')\n",
    "plt.legend(loc='lower right')\n",
    "plt.title('Training, Validation and Testing Accuracy')\n",
    "\n",
    "plt.subplot(1, 2, 2)\n",
    "plt.plot(epochs_range, loss, label='Training Loss')\n",
    "plt.plot(epochs_range, val_loss, label='Validation Loss')\n",
    "plt.plot(epochs_range, [test_loss]*epochs, label='Testing Loss')\n",
    "plt.legend(loc='upper right')\n",
    "plt.title('Training, Validation and Testing Loss')\n",
    "plt.show()\n"
   ]
  },
  {
   "cell_type": "code",
   "execution_count": 447,
   "metadata": {},
   "outputs": [],
   "source": [
    "# def _plot_image(n=1) -> None:\n",
    "#     \"\"\"Plots a image and associated label.\"\"\"\n",
    "#     for image, label in dataset_train.take(n):\n",
    "#         plt.imshow(image.numpy())\n",
    "#         plt.title(dataset_label[label.numpy()])"
   ]
  }
 ],
 "metadata": {
  "kernelspec": {
   "display_name": "Python 3.9.10 64-bit",
   "language": "python",
   "name": "python3"
  },
  "language_info": {
   "codemirror_mode": {
    "name": "ipython",
    "version": 3
   },
   "file_extension": ".py",
   "mimetype": "text/x-python",
   "name": "python",
   "nbconvert_exporter": "python",
   "pygments_lexer": "ipython3",
   "version": "3.9.10"
  },
  "orig_nbformat": 4,
  "vscode": {
   "interpreter": {
    "hash": "81794d4967e6c3204c66dcd87b604927b115b27c00565d3d43f05ba2f3a2cb0d"
   }
  }
 },
 "nbformat": 4,
 "nbformat_minor": 2
}
